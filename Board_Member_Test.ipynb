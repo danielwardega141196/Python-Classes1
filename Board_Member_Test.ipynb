{
 "cells": [
  {
   "cell_type": "code",
   "execution_count": 2,
   "metadata": {
    "collapsed": true
   },
   "outputs": [],
   "source": [
    "from Board_Member_Class import Board_member"
   ]
  },
  {
   "cell_type": "code",
   "execution_count": 3,
   "metadata": {},
   "outputs": [
    {
     "data": {
      "text/plain": [
       "Członek Zarządu:\nImię: Daniel\nNazwisko: Wardęga\nRok Urodzenia: 1996\nPensja miesieczna: 2500.67 zł\nPobory Miesieczne: 3100.67 zł\nIle razy uczestniczył w spotkaniach rady nadzorczej: 2\nKwota przyznana za uczestnictwo w spotkaniu rady nadzorczej: 300 zł\nAsystent: Kowalski"
      ]
     },
     "execution_count": 3,
     "metadata": {},
     "output_type": "execute_result"
    }
   ],
   "source": [
    "#Creating a Board member object\n",
    "czlonek = Board_member(\"Daniel\",\"Wardęga\",1996,2500.66666,\"Kowalski\",2,300)\n",
    "czlonek"
   ]
  },
  {
   "cell_type": "code",
   "execution_count": 4,
   "metadata": {},
   "outputs": [
    {
     "name": "stdout",
     "output_type": "stream",
     "text": [
      "Daniel\nAdam\n\n\nWardęga\nKowalski\n\n\n1996\n1992\n\n\n2500.67\n1000\n\n\nKowalski\nabc\n\n\n2\n532\n\n\n300\n123\n\n\nCzłonek Zarządu:\nImię: Adam\nNazwisko: Kowalski\nRok Urodzenia: 1992\nPensja miesieczna: 1000 zł\nPobory Miesieczne: 66436 zł\nIle razy uczestniczył w spotkaniach rady nadzorczej: 532\nKwota przyznana za uczestnictwo w spotkaniu rady nadzorczej: 123 zł\nAsystent: abc\n"
     ]
    }
   ],
   "source": [
    "#Changing Particular Values\n",
    "\n",
    "print(czlonek.name) \n",
    "czlonek.name = \"Adam\"\n",
    "print(czlonek.name) \n",
    "print('\\n')\n",
    "\n",
    "print(czlonek.lastname)\n",
    "czlonek.lastname = \"Kowalski\"\n",
    "print(czlonek.lastname)\n",
    "print('\\n')\n",
    "\n",
    "print(czlonek.birth_year) \n",
    "czlonek.birth_year = 1992\n",
    "print(czlonek.birth_year)\n",
    "print('\\n')\n",
    "\n",
    "print(czlonek.salary)\n",
    "czlonek.salary=1000\n",
    "print(czlonek.salary)\n",
    "print('\\n')\n",
    "\n",
    "print(czlonek.assistant)\n",
    "czlonek.assistant = 'abc'\n",
    "print(czlonek.assistant)\n",
    "print('\\n')\n",
    "\n",
    "print(czlonek.board)\n",
    "czlonek.board = 532\n",
    "print(czlonek.board)\n",
    "print('\\n')\n",
    "\n",
    "print(czlonek.pay_bo)\n",
    "czlonek.pay_bo = 123\n",
    "print(czlonek.pay_bo)\n",
    "print('\\n')\n",
    "\n",
    "print(czlonek)"
   ]
  },
  {
   "cell_type": "code",
   "execution_count": 5,
   "metadata": {},
   "outputs": [
    {
     "ename": "ValueError",
     "evalue": "A correct first name must contain only letters.",
     "traceback": [
      "\u001b[1;31m---------------------------------------------------------------------------\u001b[0m",
      "\u001b[1;31mValueError\u001b[0m                                Traceback (most recent call last)",
      "\u001b[1;32m<ipython-input-5-6633d759722b>\u001b[0m in \u001b[0;36m<module>\u001b[1;34m()\u001b[0m\n\u001b[0;32m      1\u001b[0m \u001b[1;31m#Raise:\u001b[0m\u001b[1;33m\u001b[0m\u001b[1;33m\u001b[0m\u001b[0m\n\u001b[0;32m      2\u001b[0m \u001b[1;31m#name(str): The first name of a person. Only letters should be included.\u001b[0m\u001b[1;33m\u001b[0m\u001b[1;33m\u001b[0m\u001b[0m\n\u001b[1;32m----> 3\u001b[1;33m \u001b[0mczlonek\u001b[0m \u001b[1;33m=\u001b[0m \u001b[0mBoard_member\u001b[0m\u001b[1;33m(\u001b[0m\u001b[1;34m\"Dan4el\"\u001b[0m\u001b[1;33m,\u001b[0m\u001b[1;34m\"Wardęga\"\u001b[0m\u001b[1;33m,\u001b[0m\u001b[1;36m1996\u001b[0m\u001b[1;33m,\u001b[0m\u001b[1;36m2500.66666\u001b[0m\u001b[1;33m,\u001b[0m\u001b[1;34m\"Kowalski\"\u001b[0m\u001b[1;33m,\u001b[0m\u001b[1;36m2\u001b[0m\u001b[1;33m,\u001b[0m\u001b[1;36m300\u001b[0m\u001b[1;33m)\u001b[0m\u001b[1;33m\u001b[0m\u001b[0m\n\u001b[0m",
      "\u001b[1;32m~\\Desktop\\Pokazać\\Classes1\\Board_Member_Class.py\u001b[0m in \u001b[0;36m__init__\u001b[1;34m(self, name, lastname, birth_year, salary, assistant, board, pay_bo)\u001b[0m\n\u001b[0;32m     26\u001b[0m         \"\"\"\n\u001b[0;32m     27\u001b[0m \u001b[1;33m\u001b[0m\u001b[0m\n\u001b[1;32m---> 28\u001b[1;33m         \u001b[0msuper\u001b[0m\u001b[1;33m(\u001b[0m\u001b[0mBoard_member\u001b[0m\u001b[1;33m,\u001b[0m \u001b[0mself\u001b[0m\u001b[1;33m)\u001b[0m\u001b[1;33m.\u001b[0m\u001b[0m__init__\u001b[0m\u001b[1;33m(\u001b[0m\u001b[0mname\u001b[0m\u001b[1;33m,\u001b[0m \u001b[0mlastname\u001b[0m\u001b[1;33m,\u001b[0m \u001b[0mbirth_year\u001b[0m\u001b[1;33m)\u001b[0m\u001b[1;33m\u001b[0m\u001b[0m\n\u001b[0m\u001b[0;32m     29\u001b[0m \u001b[1;33m\u001b[0m\u001b[0m\n\u001b[0;32m     30\u001b[0m         \u001b[0mself\u001b[0m\u001b[1;33m.\u001b[0m\u001b[0m_salary\u001b[0m \u001b[1;33m=\u001b[0m \u001b[1;32mNone\u001b[0m\u001b[1;33m\u001b[0m\u001b[0m\n",
      "\u001b[1;32m~\\Desktop\\Pokazać\\Classes1\\Person_Class.py\u001b[0m in \u001b[0;36m__init__\u001b[1;34m(self, name, lastname, birth_year)\u001b[0m\n\u001b[0;32m     27\u001b[0m         \u001b[0mself\u001b[0m\u001b[1;33m.\u001b[0m\u001b[0m_birth_year\u001b[0m \u001b[1;33m=\u001b[0m \u001b[1;32mNone\u001b[0m\u001b[1;33m\u001b[0m\u001b[0m\n\u001b[0;32m     28\u001b[0m \u001b[1;33m\u001b[0m\u001b[0m\n\u001b[1;32m---> 29\u001b[1;33m         \u001b[0mself\u001b[0m\u001b[1;33m.\u001b[0m\u001b[0mname\u001b[0m \u001b[1;33m=\u001b[0m \u001b[0mname\u001b[0m\u001b[1;33m\u001b[0m\u001b[0m\n\u001b[0m\u001b[0;32m     30\u001b[0m \u001b[1;33m\u001b[0m\u001b[0m\n\u001b[0;32m     31\u001b[0m         \u001b[0mself\u001b[0m\u001b[1;33m.\u001b[0m\u001b[0mlastname\u001b[0m \u001b[1;33m=\u001b[0m \u001b[0mlastname\u001b[0m\u001b[1;33m\u001b[0m\u001b[0m\n",
      "\u001b[1;32m~\\Desktop\\Pokazać\\Classes1\\Person_Class.py\u001b[0m in \u001b[0;36mname\u001b[1;34m(self, new_name)\u001b[0m\n\u001b[0;32m     61\u001b[0m \u001b[1;33m\u001b[0m\u001b[0m\n\u001b[0;32m     62\u001b[0m         \u001b[1;32mif\u001b[0m \u001b[1;33m(\u001b[0m\u001b[0mstr\u001b[0m\u001b[1;33m(\u001b[0m\u001b[0mnew_name\u001b[0m\u001b[1;33m)\u001b[0m\u001b[1;33m)\u001b[0m\u001b[1;33m.\u001b[0m\u001b[0misalpha\u001b[0m\u001b[1;33m(\u001b[0m\u001b[1;33m)\u001b[0m \u001b[1;33m==\u001b[0m \u001b[1;32mFalse\u001b[0m\u001b[1;33m:\u001b[0m\u001b[1;33m\u001b[0m\u001b[0m\n\u001b[1;32m---> 63\u001b[1;33m             \u001b[1;32mraise\u001b[0m \u001b[0mValueError\u001b[0m\u001b[1;33m(\u001b[0m\u001b[1;34m\"A correct first name must contain only letters.\"\u001b[0m\u001b[1;33m)\u001b[0m\u001b[1;33m\u001b[0m\u001b[0m\n\u001b[0m\u001b[0;32m     64\u001b[0m \u001b[1;33m\u001b[0m\u001b[0m\n\u001b[0;32m     65\u001b[0m         \u001b[0mself\u001b[0m\u001b[1;33m.\u001b[0m\u001b[0m_name\u001b[0m \u001b[1;33m=\u001b[0m \u001b[0mnew_name\u001b[0m\u001b[1;33m.\u001b[0m\u001b[0mcapitalize\u001b[0m\u001b[1;33m(\u001b[0m\u001b[1;33m)\u001b[0m\u001b[1;33m\u001b[0m\u001b[0m\n",
      "\u001b[1;31mValueError\u001b[0m: A correct first name must contain only letters."
     ],
     "output_type": "error"
    }
   ],
   "source": [
    "#Raise:\n",
    "#name(str): The first name of a person. Only letters should be included.\n",
    "czlonek = Board_member(\"Dan4el\",\"Wardęga\",1996,2500.66666,\"Kowalski\",2,300)"
   ]
  },
  {
   "cell_type": "code",
   "execution_count": 6,
   "metadata": {},
   "outputs": [
    {
     "ename": "ValueError",
     "evalue": "A correct last name must contain only letters.",
     "traceback": [
      "\u001b[1;31m---------------------------------------------------------------------------\u001b[0m",
      "\u001b[1;31mValueError\u001b[0m                                Traceback (most recent call last)",
      "\u001b[1;32m<ipython-input-6-04cd1065ab3e>\u001b[0m in \u001b[0;36m<module>\u001b[1;34m()\u001b[0m\n\u001b[0;32m      1\u001b[0m \u001b[1;31m#Raise:\u001b[0m\u001b[1;33m\u001b[0m\u001b[1;33m\u001b[0m\u001b[0m\n\u001b[0;32m      2\u001b[0m \u001b[1;31m#lastname (str): The last name of a person. Only letters should be included.\u001b[0m\u001b[1;33m\u001b[0m\u001b[1;33m\u001b[0m\u001b[0m\n\u001b[1;32m----> 3\u001b[1;33m \u001b[0mczlonek\u001b[0m \u001b[1;33m=\u001b[0m \u001b[0mBoard_member\u001b[0m\u001b[1;33m(\u001b[0m\u001b[1;34m\"Daniel\"\u001b[0m\u001b[1;33m,\u001b[0m\u001b[1;34m\"Wardę1a\"\u001b[0m\u001b[1;33m,\u001b[0m\u001b[1;36m1996\u001b[0m\u001b[1;33m,\u001b[0m\u001b[1;36m2500.66666\u001b[0m\u001b[1;33m,\u001b[0m\u001b[1;34m\"Kowalski\"\u001b[0m\u001b[1;33m,\u001b[0m\u001b[1;36m2\u001b[0m\u001b[1;33m,\u001b[0m\u001b[1;36m300\u001b[0m\u001b[1;33m)\u001b[0m\u001b[1;33m\u001b[0m\u001b[0m\n\u001b[0m",
      "\u001b[1;32m~\\Desktop\\Pokazać\\Classes1\\Board_Member_Class.py\u001b[0m in \u001b[0;36m__init__\u001b[1;34m(self, name, lastname, birth_year, salary, assistant, board, pay_bo)\u001b[0m\n\u001b[0;32m     26\u001b[0m         \"\"\"\n\u001b[0;32m     27\u001b[0m \u001b[1;33m\u001b[0m\u001b[0m\n\u001b[1;32m---> 28\u001b[1;33m         \u001b[0msuper\u001b[0m\u001b[1;33m(\u001b[0m\u001b[0mBoard_member\u001b[0m\u001b[1;33m,\u001b[0m \u001b[0mself\u001b[0m\u001b[1;33m)\u001b[0m\u001b[1;33m.\u001b[0m\u001b[0m__init__\u001b[0m\u001b[1;33m(\u001b[0m\u001b[0mname\u001b[0m\u001b[1;33m,\u001b[0m \u001b[0mlastname\u001b[0m\u001b[1;33m,\u001b[0m \u001b[0mbirth_year\u001b[0m\u001b[1;33m)\u001b[0m\u001b[1;33m\u001b[0m\u001b[0m\n\u001b[0m\u001b[0;32m     29\u001b[0m \u001b[1;33m\u001b[0m\u001b[0m\n\u001b[0;32m     30\u001b[0m         \u001b[0mself\u001b[0m\u001b[1;33m.\u001b[0m\u001b[0m_salary\u001b[0m \u001b[1;33m=\u001b[0m \u001b[1;32mNone\u001b[0m\u001b[1;33m\u001b[0m\u001b[0m\n",
      "\u001b[1;32m~\\Desktop\\Pokazać\\Classes1\\Person_Class.py\u001b[0m in \u001b[0;36m__init__\u001b[1;34m(self, name, lastname, birth_year)\u001b[0m\n\u001b[0;32m     29\u001b[0m         \u001b[0mself\u001b[0m\u001b[1;33m.\u001b[0m\u001b[0mname\u001b[0m \u001b[1;33m=\u001b[0m \u001b[0mname\u001b[0m\u001b[1;33m\u001b[0m\u001b[0m\n\u001b[0;32m     30\u001b[0m \u001b[1;33m\u001b[0m\u001b[0m\n\u001b[1;32m---> 31\u001b[1;33m         \u001b[0mself\u001b[0m\u001b[1;33m.\u001b[0m\u001b[0mlastname\u001b[0m \u001b[1;33m=\u001b[0m \u001b[0mlastname\u001b[0m\u001b[1;33m\u001b[0m\u001b[0m\n\u001b[0m\u001b[0;32m     32\u001b[0m \u001b[1;33m\u001b[0m\u001b[0m\n\u001b[0;32m     33\u001b[0m         \u001b[0mself\u001b[0m\u001b[1;33m.\u001b[0m\u001b[0mbirth_year\u001b[0m \u001b[1;33m=\u001b[0m \u001b[0mbirth_year\u001b[0m\u001b[1;33m\u001b[0m\u001b[0m\n",
      "\u001b[1;32m~\\Desktop\\Pokazać\\Classes1\\Person_Class.py\u001b[0m in \u001b[0;36mlastname\u001b[1;34m(self, new_lastname)\u001b[0m\n\u001b[0;32m     83\u001b[0m \u001b[1;33m\u001b[0m\u001b[0m\n\u001b[0;32m     84\u001b[0m         \u001b[1;32mif\u001b[0m \u001b[1;33m(\u001b[0m\u001b[0mstr\u001b[0m\u001b[1;33m(\u001b[0m\u001b[0mnew_lastname\u001b[0m\u001b[1;33m)\u001b[0m\u001b[1;33m)\u001b[0m\u001b[1;33m.\u001b[0m\u001b[0misalpha\u001b[0m\u001b[1;33m(\u001b[0m\u001b[1;33m)\u001b[0m \u001b[1;33m==\u001b[0m \u001b[1;32mFalse\u001b[0m\u001b[1;33m:\u001b[0m\u001b[1;33m\u001b[0m\u001b[0m\n\u001b[1;32m---> 85\u001b[1;33m             \u001b[1;32mraise\u001b[0m \u001b[0mValueError\u001b[0m\u001b[1;33m(\u001b[0m\u001b[1;34m\"A correct last name must contain only letters.\"\u001b[0m\u001b[1;33m)\u001b[0m\u001b[1;33m\u001b[0m\u001b[0m\n\u001b[0m\u001b[0;32m     86\u001b[0m \u001b[1;33m\u001b[0m\u001b[0m\n\u001b[0;32m     87\u001b[0m         \u001b[0mself\u001b[0m\u001b[1;33m.\u001b[0m\u001b[0m_lastname\u001b[0m \u001b[1;33m=\u001b[0m \u001b[0mnew_lastname\u001b[0m\u001b[1;33m.\u001b[0m\u001b[0mcapitalize\u001b[0m\u001b[1;33m(\u001b[0m\u001b[1;33m)\u001b[0m\u001b[1;33m\u001b[0m\u001b[0m\n",
      "\u001b[1;31mValueError\u001b[0m: A correct last name must contain only letters."
     ],
     "output_type": "error"
    }
   ],
   "source": [
    "#Raise:\n",
    "#lastname (str): The last name of a person. Only letters should be included.\n",
    "czlonek = Board_member(\"Daniel\",\"Wardę1a\",1996,2500.66666,\"Kowalski\",2,300)"
   ]
  },
  {
   "cell_type": "code",
   "execution_count": 7,
   "metadata": {},
   "outputs": [
    {
     "ename": "ValueError",
     "evalue": "A correct birth year must be int greater than 1900.",
     "traceback": [
      "\u001b[1;31m---------------------------------------------------------------------------\u001b[0m",
      "\u001b[1;31mValueError\u001b[0m                                Traceback (most recent call last)",
      "\u001b[1;32m<ipython-input-7-e95a41d83179>\u001b[0m in \u001b[0;36m<module>\u001b[1;34m()\u001b[0m\n\u001b[0;32m      1\u001b[0m \u001b[1;31m#Raise:\u001b[0m\u001b[1;33m\u001b[0m\u001b[1;33m\u001b[0m\u001b[0m\n\u001b[0;32m      2\u001b[0m \u001b[1;31m#birth_year (int): The birth year of a person. It must be int thereabout 1900.\u001b[0m\u001b[1;33m\u001b[0m\u001b[1;33m\u001b[0m\u001b[0m\n\u001b[1;32m----> 3\u001b[1;33m \u001b[0mczlonek\u001b[0m \u001b[1;33m=\u001b[0m \u001b[0mBoard_member\u001b[0m\u001b[1;33m(\u001b[0m\u001b[1;34m\"Daniel\"\u001b[0m\u001b[1;33m,\u001b[0m\u001b[1;34m\"Wardęga\"\u001b[0m\u001b[1;33m,\u001b[0m\u001b[1;36m1996.2\u001b[0m\u001b[1;33m,\u001b[0m\u001b[1;36m2500.66666\u001b[0m\u001b[1;33m,\u001b[0m\u001b[1;34m\"Kowalski\"\u001b[0m\u001b[1;33m,\u001b[0m\u001b[1;36m2\u001b[0m\u001b[1;33m,\u001b[0m\u001b[1;36m300\u001b[0m\u001b[1;33m)\u001b[0m\u001b[1;33m\u001b[0m\u001b[0m\n\u001b[0m",
      "\u001b[1;32m~\\Desktop\\Pokazać\\Classes1\\Board_Member_Class.py\u001b[0m in \u001b[0;36m__init__\u001b[1;34m(self, name, lastname, birth_year, salary, assistant, board, pay_bo)\u001b[0m\n\u001b[0;32m     26\u001b[0m         \"\"\"\n\u001b[0;32m     27\u001b[0m \u001b[1;33m\u001b[0m\u001b[0m\n\u001b[1;32m---> 28\u001b[1;33m         \u001b[0msuper\u001b[0m\u001b[1;33m(\u001b[0m\u001b[0mBoard_member\u001b[0m\u001b[1;33m,\u001b[0m \u001b[0mself\u001b[0m\u001b[1;33m)\u001b[0m\u001b[1;33m.\u001b[0m\u001b[0m__init__\u001b[0m\u001b[1;33m(\u001b[0m\u001b[0mname\u001b[0m\u001b[1;33m,\u001b[0m \u001b[0mlastname\u001b[0m\u001b[1;33m,\u001b[0m \u001b[0mbirth_year\u001b[0m\u001b[1;33m)\u001b[0m\u001b[1;33m\u001b[0m\u001b[0m\n\u001b[0m\u001b[0;32m     29\u001b[0m \u001b[1;33m\u001b[0m\u001b[0m\n\u001b[0;32m     30\u001b[0m         \u001b[0mself\u001b[0m\u001b[1;33m.\u001b[0m\u001b[0m_salary\u001b[0m \u001b[1;33m=\u001b[0m \u001b[1;32mNone\u001b[0m\u001b[1;33m\u001b[0m\u001b[0m\n",
      "\u001b[1;32m~\\Desktop\\Pokazać\\Classes1\\Person_Class.py\u001b[0m in \u001b[0;36m__init__\u001b[1;34m(self, name, lastname, birth_year)\u001b[0m\n\u001b[0;32m     31\u001b[0m         \u001b[0mself\u001b[0m\u001b[1;33m.\u001b[0m\u001b[0mlastname\u001b[0m \u001b[1;33m=\u001b[0m \u001b[0mlastname\u001b[0m\u001b[1;33m\u001b[0m\u001b[0m\n\u001b[0;32m     32\u001b[0m \u001b[1;33m\u001b[0m\u001b[0m\n\u001b[1;32m---> 33\u001b[1;33m         \u001b[0mself\u001b[0m\u001b[1;33m.\u001b[0m\u001b[0mbirth_year\u001b[0m \u001b[1;33m=\u001b[0m \u001b[0mbirth_year\u001b[0m\u001b[1;33m\u001b[0m\u001b[0m\n\u001b[0m\u001b[0;32m     34\u001b[0m \u001b[1;33m\u001b[0m\u001b[0m\n\u001b[0;32m     35\u001b[0m     \u001b[1;33m@\u001b[0m\u001b[0mproperty\u001b[0m\u001b[1;33m\u001b[0m\u001b[0m\n",
      "\u001b[1;32m~\\Desktop\\Pokazać\\Classes1\\Person_Class.py\u001b[0m in \u001b[0;36mbirth_year\u001b[1;34m(self, new_birth_year)\u001b[0m\n\u001b[0;32m    105\u001b[0m         \"\"\"\n\u001b[0;32m    106\u001b[0m         \u001b[1;32mif\u001b[0m \u001b[1;33m(\u001b[0m\u001b[0mstr\u001b[0m\u001b[1;33m(\u001b[0m\u001b[0mnew_birth_year\u001b[0m\u001b[1;33m)\u001b[0m\u001b[1;33m)\u001b[0m\u001b[1;33m.\u001b[0m\u001b[0misdigit\u001b[0m\u001b[1;33m(\u001b[0m\u001b[1;33m)\u001b[0m \u001b[1;33m==\u001b[0m \u001b[1;32mFalse\u001b[0m \u001b[1;32mor\u001b[0m \u001b[0mint\u001b[0m\u001b[1;33m(\u001b[0m\u001b[0mnew_birth_year\u001b[0m\u001b[1;33m)\u001b[0m \u001b[1;33m<\u001b[0m \u001b[1;36m1900\u001b[0m\u001b[1;33m:\u001b[0m\u001b[1;33m\u001b[0m\u001b[0m\n\u001b[1;32m--> 107\u001b[1;33m             \u001b[1;32mraise\u001b[0m \u001b[0mValueError\u001b[0m\u001b[1;33m(\u001b[0m\u001b[1;34m\"A correct birth year must be int greater than 1900.\"\u001b[0m\u001b[1;33m)\u001b[0m\u001b[1;33m\u001b[0m\u001b[0m\n\u001b[0m\u001b[0;32m    108\u001b[0m \u001b[1;33m\u001b[0m\u001b[0m\n\u001b[0;32m    109\u001b[0m         \u001b[0mself\u001b[0m\u001b[1;33m.\u001b[0m\u001b[0m_birth_year\u001b[0m \u001b[1;33m=\u001b[0m \u001b[0mnew_birth_year\u001b[0m\u001b[1;33m\u001b[0m\u001b[0m\n",
      "\u001b[1;31mValueError\u001b[0m: A correct birth year must be int greater than 1900."
     ],
     "output_type": "error"
    }
   ],
   "source": [
    "#Raise:\n",
    "#birth_year (int): The birth year of a person. It must be int thereabout 1900.\n",
    "czlonek = Board_member(\"Daniel\",\"Wardęga\",1996.2,2500.66666,\"Kowalski\",2,300)"
   ]
  },
  {
   "cell_type": "code",
   "execution_count": 8,
   "metadata": {},
   "outputs": [
    {
     "ename": "ValueError",
     "evalue": "The Salary should be float or int and must be greater than or equal to zero",
     "traceback": [
      "\u001b[1;31m---------------------------------------------------------------------------\u001b[0m",
      "\u001b[1;31mValueError\u001b[0m                                Traceback (most recent call last)",
      "\u001b[1;32m<ipython-input-8-c1ffba748a16>\u001b[0m in \u001b[0;36m<module>\u001b[1;34m()\u001b[0m\n\u001b[0;32m      1\u001b[0m \u001b[1;31m#Raise:\u001b[0m\u001b[1;33m\u001b[0m\u001b[1;33m\u001b[0m\u001b[0m\n\u001b[0;32m      2\u001b[0m \u001b[1;31m#salary : basic salary of a board member. It should be float or int and must be greater than or equal to zero.\u001b[0m\u001b[1;33m\u001b[0m\u001b[1;33m\u001b[0m\u001b[0m\n\u001b[1;32m----> 3\u001b[1;33m \u001b[0mczlonek\u001b[0m \u001b[1;33m=\u001b[0m \u001b[0mBoard_member\u001b[0m\u001b[1;33m(\u001b[0m\u001b[1;34m\"Daniel\"\u001b[0m\u001b[1;33m,\u001b[0m\u001b[1;34m\"Wardęga\"\u001b[0m\u001b[1;33m,\u001b[0m\u001b[1;36m1996\u001b[0m\u001b[1;33m,\u001b[0m\u001b[1;34m'kk'\u001b[0m\u001b[1;33m,\u001b[0m\u001b[1;34m\"Kowalski\"\u001b[0m\u001b[1;33m,\u001b[0m\u001b[1;36m2\u001b[0m\u001b[1;33m,\u001b[0m\u001b[1;36m300\u001b[0m\u001b[1;33m)\u001b[0m\u001b[1;33m\u001b[0m\u001b[0m\n\u001b[0m",
      "\u001b[1;32m~\\Desktop\\Pokazać\\Classes1\\Board_Member_Class.py\u001b[0m in \u001b[0;36m__init__\u001b[1;34m(self, name, lastname, birth_year, salary, assistant, board, pay_bo)\u001b[0m\n\u001b[0;32m     33\u001b[0m         \u001b[0mself\u001b[0m\u001b[1;33m.\u001b[0m\u001b[0m_pay_bo\u001b[0m \u001b[1;33m=\u001b[0m \u001b[1;32mNone\u001b[0m\u001b[1;33m\u001b[0m\u001b[0m\n\u001b[0;32m     34\u001b[0m \u001b[1;33m\u001b[0m\u001b[0m\n\u001b[1;32m---> 35\u001b[1;33m         \u001b[0mself\u001b[0m\u001b[1;33m.\u001b[0m\u001b[0msalary\u001b[0m \u001b[1;33m=\u001b[0m \u001b[0msalary\u001b[0m\u001b[1;33m\u001b[0m\u001b[0m\n\u001b[0m\u001b[0;32m     36\u001b[0m         \u001b[0mself\u001b[0m\u001b[1;33m.\u001b[0m\u001b[0massistant\u001b[0m \u001b[1;33m=\u001b[0m \u001b[0massistant\u001b[0m\u001b[1;33m\u001b[0m\u001b[0m\n\u001b[0;32m     37\u001b[0m         \u001b[0mself\u001b[0m\u001b[1;33m.\u001b[0m\u001b[0mboard\u001b[0m \u001b[1;33m=\u001b[0m \u001b[0mboard\u001b[0m\u001b[1;33m\u001b[0m\u001b[0m\n",
      "\u001b[1;32m~\\Desktop\\Pokazać\\Classes1\\Board_Member_Class.py\u001b[0m in \u001b[0;36msalary\u001b[1;34m(self, new_salary)\u001b[0m\n\u001b[0;32m     56\u001b[0m \u001b[1;33m\u001b[0m\u001b[0m\n\u001b[0;32m     57\u001b[0m         \u001b[1;32mif\u001b[0m \u001b[1;33m(\u001b[0m\u001b[0mtype\u001b[0m\u001b[1;33m(\u001b[0m\u001b[0mnew_salary\u001b[0m\u001b[1;33m)\u001b[0m \u001b[1;33m!=\u001b[0m \u001b[0mint\u001b[0m \u001b[1;32mand\u001b[0m \u001b[0mtype\u001b[0m\u001b[1;33m(\u001b[0m\u001b[0mnew_salary\u001b[0m\u001b[1;33m)\u001b[0m \u001b[1;33m!=\u001b[0m \u001b[0mfloat\u001b[0m\u001b[1;33m)\u001b[0m \u001b[1;32mor\u001b[0m \u001b[0mnew_salary\u001b[0m \u001b[1;33m<\u001b[0m \u001b[1;36m0\u001b[0m\u001b[1;33m:\u001b[0m\u001b[1;33m\u001b[0m\u001b[0m\n\u001b[1;32m---> 58\u001b[1;33m             \u001b[1;32mraise\u001b[0m \u001b[0mValueError\u001b[0m\u001b[1;33m(\u001b[0m\u001b[1;34m\"The Salary should be float or int and must be greater than or equal to zero\"\u001b[0m\u001b[1;33m)\u001b[0m\u001b[1;33m\u001b[0m\u001b[0m\n\u001b[0m\u001b[0;32m     59\u001b[0m \u001b[1;33m\u001b[0m\u001b[0m\n\u001b[0;32m     60\u001b[0m         \u001b[0mself\u001b[0m\u001b[1;33m.\u001b[0m\u001b[0m_salary\u001b[0m \u001b[1;33m=\u001b[0m \u001b[0mround\u001b[0m\u001b[1;33m(\u001b[0m\u001b[0mnew_salary\u001b[0m\u001b[1;33m,\u001b[0m \u001b[1;36m2\u001b[0m\u001b[1;33m)\u001b[0m\u001b[1;33m\u001b[0m\u001b[0m\n",
      "\u001b[1;31mValueError\u001b[0m: The Salary should be float or int and must be greater than or equal to zero"
     ],
     "output_type": "error"
    }
   ],
   "source": [
    "#Raise:\n",
    "#salary : basic salary of a board member. It should be float or int and must be greater than or equal to zero.\n",
    "czlonek = Board_member(\"Daniel\",\"Wardęga\",1996,'kk',\"Kowalski\",2,300)"
   ]
  },
  {
   "cell_type": "code",
   "execution_count": 9,
   "metadata": {},
   "outputs": [
    {
     "ename": "ValueError",
     "evalue": "A correct name of board member assistant must contain only letters.",
     "traceback": [
      "\u001b[1;31m---------------------------------------------------------------------------\u001b[0m",
      "\u001b[1;31mValueError\u001b[0m                                Traceback (most recent call last)",
      "\u001b[1;32m<ipython-input-9-54f9de96181d>\u001b[0m in \u001b[0;36m<module>\u001b[1;34m()\u001b[0m\n\u001b[0;32m      1\u001b[0m \u001b[1;31m#Raise:\u001b[0m\u001b[1;33m\u001b[0m\u001b[1;33m\u001b[0m\u001b[0m\n\u001b[0;32m      2\u001b[0m \u001b[1;31m#assistant : The name of board member assistant. Only letters should be included.\u001b[0m\u001b[1;33m\u001b[0m\u001b[1;33m\u001b[0m\u001b[0m\n\u001b[1;32m----> 3\u001b[1;33m \u001b[0mczlonek\u001b[0m \u001b[1;33m=\u001b[0m \u001b[0mBoard_member\u001b[0m\u001b[1;33m(\u001b[0m\u001b[1;34m\"Daniel\"\u001b[0m\u001b[1;33m,\u001b[0m\u001b[1;34m\"Wardęga\"\u001b[0m\u001b[1;33m,\u001b[0m\u001b[1;36m1996\u001b[0m\u001b[1;33m,\u001b[0m\u001b[1;36m2500\u001b[0m\u001b[1;33m,\u001b[0m\u001b[1;34m\"K44owalski\"\u001b[0m\u001b[1;33m,\u001b[0m\u001b[1;36m2\u001b[0m\u001b[1;33m,\u001b[0m\u001b[1;36m300\u001b[0m\u001b[1;33m)\u001b[0m\u001b[1;33m\u001b[0m\u001b[0m\n\u001b[0m",
      "\u001b[1;32m~\\Desktop\\Pokazać\\Classes1\\Board_Member_Class.py\u001b[0m in \u001b[0;36m__init__\u001b[1;34m(self, name, lastname, birth_year, salary, assistant, board, pay_bo)\u001b[0m\n\u001b[0;32m     34\u001b[0m \u001b[1;33m\u001b[0m\u001b[0m\n\u001b[0;32m     35\u001b[0m         \u001b[0mself\u001b[0m\u001b[1;33m.\u001b[0m\u001b[0msalary\u001b[0m \u001b[1;33m=\u001b[0m \u001b[0msalary\u001b[0m\u001b[1;33m\u001b[0m\u001b[0m\n\u001b[1;32m---> 36\u001b[1;33m         \u001b[0mself\u001b[0m\u001b[1;33m.\u001b[0m\u001b[0massistant\u001b[0m \u001b[1;33m=\u001b[0m \u001b[0massistant\u001b[0m\u001b[1;33m\u001b[0m\u001b[0m\n\u001b[0m\u001b[0;32m     37\u001b[0m         \u001b[0mself\u001b[0m\u001b[1;33m.\u001b[0m\u001b[0mboard\u001b[0m \u001b[1;33m=\u001b[0m \u001b[0mboard\u001b[0m\u001b[1;33m\u001b[0m\u001b[0m\n\u001b[0;32m     38\u001b[0m         \u001b[0mself\u001b[0m\u001b[1;33m.\u001b[0m\u001b[0mpay_bo\u001b[0m \u001b[1;33m=\u001b[0m \u001b[0mpay_bo\u001b[0m\u001b[1;33m\u001b[0m\u001b[0m\n",
      "\u001b[1;32m~\\Desktop\\Pokazać\\Classes1\\Board_Member_Class.py\u001b[0m in \u001b[0;36massistant\u001b[1;34m(self, new_assistant)\u001b[0m\n\u001b[0;32m     78\u001b[0m \u001b[1;33m\u001b[0m\u001b[0m\n\u001b[0;32m     79\u001b[0m         \u001b[1;32mif\u001b[0m \u001b[1;33m(\u001b[0m\u001b[0mstr\u001b[0m\u001b[1;33m(\u001b[0m\u001b[0mnew_assistant\u001b[0m\u001b[1;33m)\u001b[0m\u001b[1;33m)\u001b[0m\u001b[1;33m.\u001b[0m\u001b[0misalpha\u001b[0m\u001b[1;33m(\u001b[0m\u001b[1;33m)\u001b[0m \u001b[1;33m==\u001b[0m \u001b[1;32mFalse\u001b[0m\u001b[1;33m:\u001b[0m\u001b[1;33m\u001b[0m\u001b[0m\n\u001b[1;32m---> 80\u001b[1;33m             \u001b[1;32mraise\u001b[0m \u001b[0mValueError\u001b[0m\u001b[1;33m(\u001b[0m\u001b[1;34m\"A correct name of board member assistant must contain only letters.\"\u001b[0m\u001b[1;33m)\u001b[0m\u001b[1;33m\u001b[0m\u001b[0m\n\u001b[0m\u001b[0;32m     81\u001b[0m \u001b[1;33m\u001b[0m\u001b[0m\n\u001b[0;32m     82\u001b[0m         \u001b[0mself\u001b[0m\u001b[1;33m.\u001b[0m\u001b[0m_assistant\u001b[0m \u001b[1;33m=\u001b[0m \u001b[0mnew_assistant\u001b[0m\u001b[1;33m\u001b[0m\u001b[0m\n",
      "\u001b[1;31mValueError\u001b[0m: A correct name of board member assistant must contain only letters."
     ],
     "output_type": "error"
    }
   ],
   "source": [
    "#Raise:\n",
    "#assistant : The name of board member assistant. Only letters should be included.\n",
    "czlonek = Board_member(\"Daniel\",\"Wardęga\",1996,2500,\"K44owalski\",2,300)"
   ]
  },
  {
   "cell_type": "code",
   "execution_count": 10,
   "metadata": {},
   "outputs": [
    {
     "ename": "ValueError",
     "evalue": "Isn't int or is less than zero",
     "traceback": [
      "\u001b[1;31m---------------------------------------------------------------------------\u001b[0m",
      "\u001b[1;31mValueError\u001b[0m                                Traceback (most recent call last)",
      "\u001b[1;32m<ipython-input-10-7b05832beded>\u001b[0m in \u001b[0;36m<module>\u001b[1;34m()\u001b[0m\n\u001b[0;32m      1\u001b[0m \u001b[1;31m#Raise:\u001b[0m\u001b[1;33m\u001b[0m\u001b[1;33m\u001b[0m\u001b[0m\n\u001b[0;32m      2\u001b[0m \u001b[1;31m#board : How many times particular board member attended in the supervisory board meetings. It must be int greater than or equal to zero\u001b[0m\u001b[1;33m\u001b[0m\u001b[1;33m\u001b[0m\u001b[0m\n\u001b[1;32m----> 3\u001b[1;33m \u001b[0mczlonek\u001b[0m \u001b[1;33m=\u001b[0m \u001b[0mBoard_member\u001b[0m\u001b[1;33m(\u001b[0m\u001b[1;34m\"Daniel\"\u001b[0m\u001b[1;33m,\u001b[0m\u001b[1;34m\"Wardęga\"\u001b[0m\u001b[1;33m,\u001b[0m\u001b[1;36m1996\u001b[0m\u001b[1;33m,\u001b[0m\u001b[1;36m2500\u001b[0m\u001b[1;33m,\u001b[0m\u001b[1;34m\"Kowalski\"\u001b[0m\u001b[1;33m,\u001b[0m\u001b[1;36m2.3\u001b[0m\u001b[1;33m,\u001b[0m\u001b[1;36m300\u001b[0m\u001b[1;33m)\u001b[0m\u001b[1;33m\u001b[0m\u001b[0m\n\u001b[0m",
      "\u001b[1;32m~\\Desktop\\Pokazać\\Classes1\\Board_Member_Class.py\u001b[0m in \u001b[0;36m__init__\u001b[1;34m(self, name, lastname, birth_year, salary, assistant, board, pay_bo)\u001b[0m\n\u001b[0;32m     35\u001b[0m         \u001b[0mself\u001b[0m\u001b[1;33m.\u001b[0m\u001b[0msalary\u001b[0m \u001b[1;33m=\u001b[0m \u001b[0msalary\u001b[0m\u001b[1;33m\u001b[0m\u001b[0m\n\u001b[0;32m     36\u001b[0m         \u001b[0mself\u001b[0m\u001b[1;33m.\u001b[0m\u001b[0massistant\u001b[0m \u001b[1;33m=\u001b[0m \u001b[0massistant\u001b[0m\u001b[1;33m\u001b[0m\u001b[0m\n\u001b[1;32m---> 37\u001b[1;33m         \u001b[0mself\u001b[0m\u001b[1;33m.\u001b[0m\u001b[0mboard\u001b[0m \u001b[1;33m=\u001b[0m \u001b[0mboard\u001b[0m\u001b[1;33m\u001b[0m\u001b[0m\n\u001b[0m\u001b[0;32m     38\u001b[0m         \u001b[0mself\u001b[0m\u001b[1;33m.\u001b[0m\u001b[0mpay_bo\u001b[0m \u001b[1;33m=\u001b[0m \u001b[0mpay_bo\u001b[0m\u001b[1;33m\u001b[0m\u001b[0m\n\u001b[0;32m     39\u001b[0m \u001b[1;33m\u001b[0m\u001b[0m\n",
      "\u001b[1;32m~\\Desktop\\Pokazać\\Classes1\\Board_Member_Class.py\u001b[0m in \u001b[0;36mboard\u001b[1;34m(self, new_board)\u001b[0m\n\u001b[0;32m    100\u001b[0m         \"\"\"\n\u001b[0;32m    101\u001b[0m         \u001b[1;32mif\u001b[0m \u001b[1;33m(\u001b[0m\u001b[0mstr\u001b[0m\u001b[1;33m(\u001b[0m\u001b[0mnew_board\u001b[0m\u001b[1;33m)\u001b[0m\u001b[1;33m)\u001b[0m\u001b[1;33m.\u001b[0m\u001b[0misdigit\u001b[0m\u001b[1;33m(\u001b[0m\u001b[1;33m)\u001b[0m \u001b[1;33m==\u001b[0m \u001b[1;32mFalse\u001b[0m\u001b[1;33m:\u001b[0m\u001b[1;33m\u001b[0m\u001b[0m\n\u001b[1;32m--> 102\u001b[1;33m             \u001b[1;32mraise\u001b[0m \u001b[0mValueError\u001b[0m\u001b[1;33m(\u001b[0m\u001b[1;34m\"Isn't int or is less than zero\"\u001b[0m\u001b[1;33m)\u001b[0m\u001b[1;33m\u001b[0m\u001b[0m\n\u001b[0m\u001b[0;32m    103\u001b[0m \u001b[1;33m\u001b[0m\u001b[0m\n\u001b[0;32m    104\u001b[0m         \u001b[0mself\u001b[0m\u001b[1;33m.\u001b[0m\u001b[0m_board\u001b[0m \u001b[1;33m=\u001b[0m \u001b[0mnew_board\u001b[0m\u001b[1;33m\u001b[0m\u001b[0m\n",
      "\u001b[1;31mValueError\u001b[0m: Isn't int or is less than zero"
     ],
     "output_type": "error"
    }
   ],
   "source": [
    "#Raise:\n",
    "#board : How many times particular board member attended in the supervisory board meetings. It must be int greater than or equal to zero\n",
    "czlonek = Board_member(\"Daniel\",\"Wardęga\",1996,2500,\"Kowalski\",2.3,300)"
   ]
  },
  {
   "cell_type": "code",
   "execution_count": 11,
   "metadata": {},
   "outputs": [
    {
     "ename": "ValueError",
     "evalue": "The amount awarded for the board meeting should be float or int and must be greater than or equal to zero",
     "traceback": [
      "\u001b[1;31m---------------------------------------------------------------------------\u001b[0m",
      "\u001b[1;31mValueError\u001b[0m                                Traceback (most recent call last)",
      "\u001b[1;32m<ipython-input-11-b59fbf271d0e>\u001b[0m in \u001b[0;36m<module>\u001b[1;34m()\u001b[0m\n\u001b[0;32m      1\u001b[0m \u001b[1;31m#Raise:\u001b[0m\u001b[1;33m\u001b[0m\u001b[1;33m\u001b[0m\u001b[0m\n\u001b[0;32m      2\u001b[0m \u001b[1;31m#pay_bo : amount awarded for the board meeting. It should be float or int and must be greater than or equal to zero\u001b[0m\u001b[1;33m\u001b[0m\u001b[1;33m\u001b[0m\u001b[0m\n\u001b[1;32m----> 3\u001b[1;33m \u001b[0mczlonek\u001b[0m \u001b[1;33m=\u001b[0m \u001b[0mBoard_member\u001b[0m\u001b[1;33m(\u001b[0m\u001b[1;34m\"Daniel\"\u001b[0m\u001b[1;33m,\u001b[0m\u001b[1;34m\"Wardęga\"\u001b[0m\u001b[1;33m,\u001b[0m\u001b[1;36m1996\u001b[0m\u001b[1;33m,\u001b[0m\u001b[1;36m2500\u001b[0m\u001b[1;33m,\u001b[0m\u001b[1;34m\"Kowalski\"\u001b[0m\u001b[1;33m,\u001b[0m\u001b[1;36m2\u001b[0m\u001b[1;33m,\u001b[0m\u001b[1;33m-\u001b[0m\u001b[1;36m300\u001b[0m\u001b[1;33m)\u001b[0m\u001b[1;33m\u001b[0m\u001b[0m\n\u001b[0m",
      "\u001b[1;32m~\\Desktop\\Pokazać\\Classes1\\Board_Member_Class.py\u001b[0m in \u001b[0;36m__init__\u001b[1;34m(self, name, lastname, birth_year, salary, assistant, board, pay_bo)\u001b[0m\n\u001b[0;32m     36\u001b[0m         \u001b[0mself\u001b[0m\u001b[1;33m.\u001b[0m\u001b[0massistant\u001b[0m \u001b[1;33m=\u001b[0m \u001b[0massistant\u001b[0m\u001b[1;33m\u001b[0m\u001b[0m\n\u001b[0;32m     37\u001b[0m         \u001b[0mself\u001b[0m\u001b[1;33m.\u001b[0m\u001b[0mboard\u001b[0m \u001b[1;33m=\u001b[0m \u001b[0mboard\u001b[0m\u001b[1;33m\u001b[0m\u001b[0m\n\u001b[1;32m---> 38\u001b[1;33m         \u001b[0mself\u001b[0m\u001b[1;33m.\u001b[0m\u001b[0mpay_bo\u001b[0m \u001b[1;33m=\u001b[0m \u001b[0mpay_bo\u001b[0m\u001b[1;33m\u001b[0m\u001b[0m\n\u001b[0m\u001b[0;32m     39\u001b[0m \u001b[1;33m\u001b[0m\u001b[0m\n\u001b[0;32m     40\u001b[0m     \u001b[1;33m@\u001b[0m\u001b[0mproperty\u001b[0m\u001b[1;33m\u001b[0m\u001b[0m\n",
      "\u001b[1;32m~\\Desktop\\Pokazać\\Classes1\\Board_Member_Class.py\u001b[0m in \u001b[0;36mpay_bo\u001b[1;34m(self, new_pay_bo)\u001b[0m\n\u001b[0;32m    124\u001b[0m         \u001b[1;32mif\u001b[0m \u001b[1;33m(\u001b[0m\u001b[0mtype\u001b[0m\u001b[1;33m(\u001b[0m\u001b[0mnew_pay_bo\u001b[0m\u001b[1;33m)\u001b[0m \u001b[1;33m!=\u001b[0m \u001b[0mint\u001b[0m \u001b[1;32mand\u001b[0m \u001b[0mtype\u001b[0m\u001b[1;33m(\u001b[0m\u001b[0mnew_pay_bo\u001b[0m\u001b[1;33m)\u001b[0m \u001b[1;33m!=\u001b[0m \u001b[0mfloat\u001b[0m\u001b[1;33m)\u001b[0m \u001b[1;32mor\u001b[0m \u001b[0mnew_pay_bo\u001b[0m \u001b[1;33m<\u001b[0m \u001b[1;36m0\u001b[0m\u001b[1;33m:\u001b[0m\u001b[1;33m\u001b[0m\u001b[0m\n\u001b[0;32m    125\u001b[0m             raise ValueError(\n\u001b[1;32m--> 126\u001b[1;33m                 \"The amount awarded for the board meeting should be float or int and must be greater than or equal to zero\")\n\u001b[0m\u001b[0;32m    127\u001b[0m \u001b[1;33m\u001b[0m\u001b[0m\n\u001b[0;32m    128\u001b[0m         \u001b[0mself\u001b[0m\u001b[1;33m.\u001b[0m\u001b[0m_pay_bo\u001b[0m \u001b[1;33m=\u001b[0m \u001b[0mround\u001b[0m\u001b[1;33m(\u001b[0m\u001b[0mnew_pay_bo\u001b[0m\u001b[1;33m,\u001b[0m \u001b[1;36m2\u001b[0m\u001b[1;33m)\u001b[0m\u001b[1;33m\u001b[0m\u001b[0m\n",
      "\u001b[1;31mValueError\u001b[0m: The amount awarded for the board meeting should be float or int and must be greater than or equal to zero"
     ],
     "output_type": "error"
    }
   ],
   "source": [
    "#Raise:\n",
    "#pay_bo : amount awarded for the board meeting. It should be float or int and must be greater than or equal to zero\n",
    "czlonek = Board_member(\"Daniel\",\"Wardęga\",1996,2500,\"Kowalski\",2,-300)"
   ]
  },
  {
   "cell_type": "code",
   "execution_count": null,
   "metadata": {},
   "outputs": [],
   "source": [
    ""
   ]
  }
 ],
 "metadata": {
  "kernelspec": {
   "display_name": "Python 2",
   "language": "python",
   "name": "python2"
  },
  "language_info": {
   "codemirror_mode": {
    "name": "ipython",
    "version": 2.0
   },
   "file_extension": ".py",
   "mimetype": "text/x-python",
   "name": "python",
   "nbconvert_exporter": "python",
   "pygments_lexer": "ipython2",
   "version": "2.7.6"
  }
 },
 "nbformat": 4,
 "nbformat_minor": 0
}